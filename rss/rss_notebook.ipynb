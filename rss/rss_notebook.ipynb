{
 "cells": [
  {
   "cell_type": "markdown",
   "metadata": {},
   "source": [
    "## RSS"
   ]
  },
  {
   "cell_type": "markdown",
   "metadata": {},
   "source": [
    "You can find RSS feeds on many different sites. [Library of Congress](https://www.loc.gov/rss/) has a lot. Most blogs and news web sites have them, for example [Tech Crunch](https://techcrunch.com/rssfeeds/), [New York Times](http://www.nytimes.com/services/xml/rss/index.html), and [NPR](https://help.npr.org/customer/portal/articles/2094175-where-can-i-find-npr-rss-feeds-). The [DC Public Library](http://www.dclibrary.org/) even gives you an RSS feed of your [catalog searches](https://catalog.dclibrary.org/client/rss/hitlist/dcpl/qu=python). iTunes delivers podcasts by [aggregating RSS feeds](http://itunespartner.apple.com/en/podcasts/faq) from content creators. \n",
    "\n",
    "Today we are going to take a look at the [Netflix Top 100 DVDs](https://dvd.netflix.com/RSSFeeds). We will use the Python package [FeedParser](https://pypi.python.org/pypi/feedparser) to work with the RSS feed. FeedParser will allow us to deconstruct the data in the feed."
   ]
  },
  {
   "cell_type": "code",
   "execution_count": 7,
   "metadata": {
    "collapsed": true
   },
   "outputs": [],
   "source": [
    "import feedparser\n",
    "import pandas as pd"
   ]
  },
  {
   "cell_type": "code",
   "execution_count": 17,
   "metadata": {
    "collapsed": true
   },
   "outputs": [],
   "source": [
    "RSS_URL = \"https://usa.newonnetflix.info/feed\""
   ]
  },
  {
   "cell_type": "code",
   "execution_count": 18,
   "metadata": {
    "collapsed": true
   },
   "outputs": [],
   "source": [
    "feed = feedparser.parse(RSS_URL)"
   ]
  },
  {
   "cell_type": "code",
   "execution_count": 19,
   "metadata": {},
   "outputs": [
    {
     "data": {
      "text/plain": [
       "feedparser.util.FeedParserDict"
      ]
     },
     "execution_count": 19,
     "metadata": {},
     "output_type": "execute_result"
    }
   ],
   "source": [
    "type(feed)"
   ]
  },
  {
   "cell_type": "markdown",
   "metadata": {},
   "source": [
    "\"parse\" is the primary function in FeedParser. The returned object is dictionary like and can be handled similarly to a dictionary. For example, we can look at the keys it contains and what type of items those keys are."
   ]
  },
  {
   "cell_type": "code",
   "execution_count": 20,
   "metadata": {},
   "outputs": [
    {
     "data": {
      "text/plain": [
       "dict_keys(['bozo', 'entries', 'feed', 'headers', 'updated', 'updated_parsed', 'href', 'status', 'encoding', 'version', 'namespaces'])"
      ]
     },
     "execution_count": 20,
     "metadata": {},
     "output_type": "execute_result"
    }
   ],
   "source": [
    "feed.keys()"
   ]
  },
  {
   "cell_type": "code",
   "execution_count": 21,
   "metadata": {},
   "outputs": [
    {
     "data": {
      "text/plain": [
       "bool"
      ]
     },
     "execution_count": 21,
     "metadata": {},
     "output_type": "execute_result"
    }
   ],
   "source": [
    "type(feed.bozo)"
   ]
  },
  {
   "cell_type": "code",
   "execution_count": 13,
   "metadata": {
    "scrolled": false
   },
   "outputs": [
    {
     "data": {
      "text/plain": [
       "feedparser.util.FeedParserDict"
      ]
     },
     "execution_count": 13,
     "metadata": {},
     "output_type": "execute_result"
    }
   ],
   "source": [
    "type(feed.feed)"
   ]
  },
  {
   "cell_type": "markdown",
   "metadata": {},
   "source": [
    "We will look at some, but not all, of the data stored in the feed. For more information about the keys, see the [documentation](http://pythonhosted.org/feedparser/).\n",
    "\n",
    "We can use the version to check which type of feed we have."
   ]
  },
  {
   "cell_type": "code",
   "execution_count": 22,
   "metadata": {},
   "outputs": [
    {
     "data": {
      "text/plain": [
       "'rss20'"
      ]
     },
     "execution_count": 22,
     "metadata": {},
     "output_type": "execute_result"
    }
   ],
   "source": [
    "feed.version"
   ]
  },
  {
   "cell_type": "markdown",
   "metadata": {},
   "source": [
    "Bozo is an interesing key to know about if you are going to parse a RSS feed in code. FeedParser sets the bozo bit when it detects a feed is not well-formed. (FeedParser will still parse the feed if it is not well-formed.) You can use the bozo bit to create error handling or just print a simple warning."
   ]
  },
  {
   "cell_type": "code",
   "execution_count": 23,
   "metadata": {},
   "outputs": [
    {
     "name": "stdout",
     "output_type": "stream",
     "text": [
      "Well done, you have a well-formed feed!\n"
     ]
    }
   ],
   "source": [
    "if feed.bozo == 0:\n",
    "    print(\"Well done, you have a well-formed feed!\")\n",
    "else:\n",
    "    print(\"Potential trouble ahead.\")"
   ]
  },
  {
   "cell_type": "markdown",
   "metadata": {},
   "source": [
    "We can look at some of the feed elements through the feed attribute."
   ]
  },
  {
   "cell_type": "code",
   "execution_count": 24,
   "metadata": {},
   "outputs": [
    {
     "data": {
      "text/plain": [
       "dict_keys(['webfeeds_analytics', 'title', 'title_detail', 'links', 'link', 'subtitle', 'subtitle_detail', 'language', 'published', 'published_parsed', 'updated', 'updated_parsed', 'authors', 'author', 'author_detail', 'publisher', 'publisher_detail'])"
      ]
     },
     "execution_count": 24,
     "metadata": {},
     "output_type": "execute_result"
    }
   ],
   "source": [
    "feed.feed.keys()"
   ]
  },
  {
   "cell_type": "code",
   "execution_count": 25,
   "metadata": {},
   "outputs": [
    {
     "name": "stdout",
     "output_type": "stream",
     "text": [
      "New On Netflix USA\n",
      "https://usa.newonnetflix.info\n",
      "RSS feed for new additions over the last 5 days to Netflix USA (100% unofficial!). A project by MaFt.co.uk\n"
     ]
    }
   ],
   "source": [
    "print(feed.feed.title)\n",
    "print(feed.feed.link)\n",
    "print(feed.feed.description)"
   ]
  },
  {
   "cell_type": "markdown",
   "metadata": {},
   "source": [
    "The [reference section](http://pythonhosted.org/feedparser/reference.html) of the feedparser documenation shows us all the inforamtion thatcan be in a feed. [Annotated Examples](http://pythonhosted.org/feedparser/annotated-examples.html) are also provided. But note the caution provided-\n",
    "\n",
    "\"Caution: Even though many of these elements are required according to the specification, real-world feeds may be missing any element. If an element is not present in the feed, it will not be present in the parsed results. You should not rely on any particular element being present.\"\n",
    "\n",
    "For example, our feed is RSS 2.0. One of the elements available in this version is the published date."
   ]
  },
  {
   "cell_type": "code",
   "execution_count": 26,
   "metadata": {
    "collapsed": true
   },
   "outputs": [
    {
     "data": {
      "text/plain": [
       "'Sun, 05 Jun 2022 22:07:08 -0400'"
      ]
     },
     "execution_count": 26,
     "metadata": {},
     "output_type": "execute_result"
    }
   ],
   "source": [
    "feed.feed.published"
   ]
  },
  {
   "cell_type": "markdown",
   "metadata": {},
   "source": [
    "We can see from our error, our feed is not using 'published'.\n",
    "\n",
    "As with [standard python dictionaries](https://docs.python.org/3.5/library/stdtypes.html#dict), we can use the \"get\" method to see if a key exists. This is useful if we are writing code."
   ]
  },
  {
   "cell_type": "code",
   "execution_count": 27,
   "metadata": {
    "collapsed": true
   },
   "outputs": [
    {
     "data": {
      "text/plain": [
       "'Sun, 05 Jun 2022 22:07:08 -0400'"
      ]
     },
     "execution_count": 27,
     "metadata": {},
     "output_type": "execute_result"
    }
   ],
   "source": [
    "feed.feed.get('published', 'N/A')"
   ]
  },
  {
   "cell_type": "markdown",
   "metadata": {},
   "source": [
    "The data we are looking for are contained in the entries. Given the feed we are working with, how many entries do you think we have?"
   ]
  },
  {
   "cell_type": "code",
   "execution_count": 28,
   "metadata": {
    "collapsed": true
   },
   "outputs": [
    {
     "data": {
      "text/plain": [
       "62"
      ]
     },
     "execution_count": 28,
     "metadata": {},
     "output_type": "execute_result"
    }
   ],
   "source": [
    "len(feed.entries)"
   ]
  },
  {
   "cell_type": "markdown",
   "metadata": {
    "scrolled": false
   },
   "source": [
    "The items in entries are stored as a list."
   ]
  },
  {
   "cell_type": "code",
   "execution_count": 29,
   "metadata": {
    "collapsed": true
   },
   "outputs": [
    {
     "data": {
      "text/plain": [
       "list"
      ]
     },
     "execution_count": 29,
     "metadata": {},
     "output_type": "execute_result"
    }
   ],
   "source": [
    "type(feed.entries)"
   ]
  },
  {
   "cell_type": "code",
   "execution_count": 30,
   "metadata": {
    "collapsed": true
   },
   "outputs": [
    {
     "data": {
      "text/plain": [
       "'6th Jun: Bill Burr Presents: Friends Who Kill (2022), 1hr 13m [TV-MA] (6/10)'"
      ]
     },
     "execution_count": 30,
     "metadata": {},
     "output_type": "execute_result"
    }
   ],
   "source": [
    "feed.entries[0].title"
   ]
  },
  {
   "cell_type": "code",
   "execution_count": 31,
   "metadata": {
    "collapsed": true
   },
   "outputs": [
    {
     "name": "stdout",
     "output_type": "stream",
     "text": [
      "0 6th Jun: Bill Burr Presents: Friends Who Kill (2022), 1hr 13m [TV-MA] (6/10)\n",
      "1 6th Jun: Action Pack (2022), 2 Seasons [TV-Y] - New Episodes (6.25/10)\n",
      "2 5th Jun: Straight Up (2020), 1hr 36m [TV-MA] - Streaming Again (6.4/10)\n",
      "3 4th Jun: Ammar (2020), 1hr 23m [TV-MA] (6/10)\n",
      "4 3rd Jun: Change Days (2022), 1 Season [TV-PG] (6/10)\n",
      "5 3rd Jun: As the Crow Flies (2022), 1 Season [TV-MA] (6/10)\n",
      "6 3rd Jun: Mr. Good: Cop or Crook? (2022), 1 Season [TV-14] (6/10)\n",
      "7 3rd Jun: The Perfect Mother (2022), 1 Season [TV-MA] (6/10)\n",
      "8 3rd Jun: Surviving Summer (2022), 1 Season [TV-PG] (6/10)\n",
      "9 3rd Jun: Two Summers (2022), 1 Season [TV-MA] (6.55/10)\n",
      "10 3rd Jun: Floor Is Lava (2022), 2 Seasons [TV-PG] - New Episodes (5.65/10)\n",
      "11 3rd Jun: Interceptor (2022), 1hr 38m [TV-MA] (6/10)\n",
      "12 2nd Jun: #ABtalks (2022), 2 Seasons [TV-PG] - New Episodes (6.9/10)\n",
      "13 2nd Jun: Yuri Marçal: Honest Mistake (2022), 53m [TV-MA] (6/10)\n",
      "14 2nd Jun: Jana 2022 (Kannada) (2022), 2hr 41m [TV-14] (7.3/10)\n",
      "15 2nd Jun: Jana 2022 (Tamil) (2022), 2hr 41m [TV-14] (7.3/10)\n",
      "16 2nd Jun: Jana 2022 (Telugu) (2022), 2hr 41m [TV-14] (7.3/10)\n",
      "17 2nd Jun: The DUFF (2015), 1hr 41m [PG-13] - Streaming Again (6.2/10)\n",
      "18 2nd Jun: Bashar Shorts (2021), 1 Season [TV-14] (6/10)\n",
      "19 2nd Jun: Heartbeat (2021), 1hr 43m [TV-14] (6/10)\n",
      "20 2nd Jun: Plastic Island (2021), 1hr 37m [TV-PG] (6/10)\n",
      "21 2nd Jun: Story of Dinda: Second Chance of Happiness (2021), 59m [TV-PG] (6/10)\n",
      "22 2nd Jun: Borgen - Power & Glory (2022), 1 Season [TV-MA] (7.25/10)\n",
      "23 2nd Jun: Dinosaur King (2008), 1 Season [TV-Y7] (5.8/10)\n",
      "24 1st Jun: Falsa identidad (2020), 1 Season [TV-MA] (6.5/10)\n",
      "25 1st Jun: Jana Gana Mana (2022), 2hr 41m [TV-14] (7.3/10)\n",
      "26 1st Jun: 10,000 B.C. (2008), 1hr 48m [PG-13] - Streaming Again (5.95/10)\n",
      "27 1st Jun: Edge of Seventeen (1998), 1hr 43m [TV-MA] - Streaming Again (6.4/10)\n",
      "28 1st Jun: The Players Club (1998), 1hr 42m [R] - Streaming Again (5.85/10)\n",
      "29 1st Jun: Mission: Impossible II (2000), 2hr 4m [PG-13] (6.05/10)\n",
      "30 1st Jun: LEGO Ninjago (2022), 5 Seasons [TV-Y7] - New Episodes (6.6/10)\n",
      "31 1st Jun: The Boy (2016), 1hr 37m [PG-13] - Streaming Again (6/10)\n",
      "32 1st Jun: Dear John (2010), 1hr 47m [PG-13] - Streaming Again (6.15/10)\n",
      "33 1st Jun: The Departed (2006), 2hr 31m [R] - Streaming Again (7.25/10)\n",
      "34 1st Jun: Dumb and Dumber (1994), 1hr 46m [PG-13] - Streaming Again (5.75/10)\n",
      "35 1st Jun: Eraser (1996), 1hr 54m [R] - Streaming Again (6.05/10)\n",
      "36 1st Jun: The Fighter (2010), 1hr 55m [R] - Streaming Again (6.9/10)\n",
      "37 1st Jun: The Girl Next Door (2004), 1hr 49m [R] - Streaming Again (6.35/10)\n",
      "38 1st Jun: His Dark Materials: The Golden Compass (2007), 1hr 53m [PG-13] - Streaming Again (6.05/10)\n",
      "39 1st Jun: The Hurt Locker (2008), 2hr 10m [R] - Streaming Again (6.75/10)\n",
      "40 1st Jun: Kung Fu Panda 2 (2011), 1hr 32m [PG] - Streaming Again (6.6/10)\n",
      "41 1st Jun: Léon: The Professional (1994), 1hr 49m [R] - Streaming Again (7.25/10)\n",
      "42 1st Jun: Lean on Me (1989), 1hr 48m [PG-13] - Streaming Again (6.7/10)\n",
      "43 1st Jun: Life as We Know It (2010), 1hr 54m [PG-13] - Streaming Again (6.25/10)\n",
      "44 1st Jun: Mission: Impossible (1996), 1hr 50m [PG-13] - Streaming Again (6.55/10)\n",
      "45 1st Jun: Mr Bean's Holiday (2007), 1hr 26m [G] - Streaming Again (6.2/10)\n",
      "46 1st Jun: National Lampoon's Christmas Vacation (1989), 1hr 37m [PG-13] - Streaming Again (6.75/10)\n",
      "47 1st Jun: Rise of the Guardians (2012), 1hr 39m [PG] - Streaming Again (6.6/10)\n",
      "48 1st Jun: Soul Plane (2004), 1hr 26m [R] - Streaming Again (5.25/10)\n",
      "49 1st Jun: The Space Between Us (2016), 2hr [PG-13] - Streaming Again (6/10)\n",
      "50 1st Jun: Steel Magnolias (1989), 1hr 58m [PG] - Streaming Again (6.65/10)\n",
      "51 1st Jun: Takers (2010), 1hr 47m [PG-13] - Streaming Again (6.1/10)\n",
      "52 1st Jun: Titanic (1997), 3hr 14m [PG-13] - Streaming Again (6.95/10)\n",
      "53 1st Jun: Troy (2004), 2hr 42m [R] - Streaming Again (6.65/10)\n",
      "54 1st Jun: 100 Days with Tata (2021), 1hr 23m [TV-14] (6/10)\n",
      "55 1st Jun: The Amazing Spider-Man (2012), 2hr 16m [PG-13] (6.45/10)\n",
      "56 1st Jun: Anchorman: The Legend of Ron Burgundy (2004), 1hr 34m [PG-13] (6.55/10)\n",
      "57 1st Jun: Half Past Dead (2002), 1hr 38m [PG-13] (5.3/10)\n",
      "58 1st Jun: Mission: Impossible - Ghost Protocol (2011), 2hr 14m [PG-13] (6.7/10)\n",
      "59 1st Jun: Vegas Vacation (1997), 1hr 34m [PG] (5.95/10)\n",
      "60 1st Jun: We Are Marshall (2006), 2hr 11m [PG] (6.5/10)\n",
      "61 1st Jun: We Die Young (2019), 1hr 32m [R] (5.6/10)\n"
     ]
    }
   ],
   "source": [
    "i = 0\n",
    "for entry in feed.entries:\n",
    "    print(i, feed.entries[i].title)\n",
    "    i += 1"
   ]
  },
  {
   "cell_type": "markdown",
   "metadata": {},
   "source": [
    "Given that information, what is something we can do with this data? Why not make it a dataframe?"
   ]
  },
  {
   "cell_type": "code",
   "execution_count": 32,
   "metadata": {
    "collapsed": true
   },
   "outputs": [],
   "source": [
    "df = pd.DataFrame(feed.entries)"
   ]
  },
  {
   "cell_type": "code",
   "execution_count": 33,
   "metadata": {
    "collapsed": true,
    "scrolled": false
   },
   "outputs": [
    {
     "data": {
      "text/html": [
       "<div>\n",
       "<style scoped>\n",
       "    .dataframe tbody tr th:only-of-type {\n",
       "        vertical-align: middle;\n",
       "    }\n",
       "\n",
       "    .dataframe tbody tr th {\n",
       "        vertical-align: top;\n",
       "    }\n",
       "\n",
       "    .dataframe thead th {\n",
       "        text-align: right;\n",
       "    }\n",
       "</style>\n",
       "<table border=\"1\" class=\"dataframe\">\n",
       "  <thead>\n",
       "    <tr style=\"text-align: right;\">\n",
       "      <th></th>\n",
       "      <th>title</th>\n",
       "      <th>title_detail</th>\n",
       "      <th>links</th>\n",
       "      <th>link</th>\n",
       "      <th>summary</th>\n",
       "      <th>summary_detail</th>\n",
       "      <th>published</th>\n",
       "      <th>published_parsed</th>\n",
       "      <th>id</th>\n",
       "      <th>guidislink</th>\n",
       "    </tr>\n",
       "  </thead>\n",
       "  <tbody>\n",
       "    <tr>\n",
       "      <th>0</th>\n",
       "      <td>6th Jun: Bill Burr Presents: Friends Who Kill ...</td>\n",
       "      <td>{'type': 'text/plain', 'language': None, 'base...</td>\n",
       "      <td>[{'rel': 'alternate', 'type': 'text/html', 'hr...</td>\n",
       "      <td>https://usa.newonnetflix.info/info/81222748</td>\n",
       "      <td>In a night of killer comedy, Bill Burr hosts a...</td>\n",
       "      <td>{'type': 'text/html', 'language': None, 'base'...</td>\n",
       "      <td>Sun, 05 Jun 2022 22:07:08 -0400</td>\n",
       "      <td>(2022, 6, 6, 2, 7, 8, 0, 157, 0)</td>\n",
       "      <td>https://usa.newonnetflix.info/info/81222748</td>\n",
       "      <td>False</td>\n",
       "    </tr>\n",
       "    <tr>\n",
       "      <th>1</th>\n",
       "      <td>6th Jun: Action Pack (2022), 2 Seasons [TV-Y] ...</td>\n",
       "      <td>{'type': 'text/plain', 'language': None, 'base...</td>\n",
       "      <td>[{'rel': 'alternate', 'type': 'text/html', 'hr...</td>\n",
       "      <td>https://usa.newonnetflix.info/info/80993597</td>\n",
       "      <td>[New Episodes] With hearts, smarts and superpo...</td>\n",
       "      <td>{'type': 'text/html', 'language': None, 'base'...</td>\n",
       "      <td>Sun, 05 Jun 2022 21:01:17 -0400</td>\n",
       "      <td>(2022, 6, 6, 1, 1, 17, 0, 157, 0)</td>\n",
       "      <td>https://usa.newonnetflix.info/info/80993597</td>\n",
       "      <td>False</td>\n",
       "    </tr>\n",
       "    <tr>\n",
       "      <th>2</th>\n",
       "      <td>5th Jun: Straight Up (2020), 1hr 36m [TV-MA] -...</td>\n",
       "      <td>{'type': 'text/plain', 'language': None, 'base...</td>\n",
       "      <td>[{'rel': 'alternate', 'type': 'text/html', 'hr...</td>\n",
       "      <td>https://usa.newonnetflix.info/info/81229555</td>\n",
       "      <td>[Streaming Again] When a gay brainiac with OCD...</td>\n",
       "      <td>{'type': 'text/html', 'language': None, 'base'...</td>\n",
       "      <td>Sun, 05 Jun 2022 01:07:23 -0400</td>\n",
       "      <td>(2022, 6, 5, 5, 7, 23, 6, 156, 0)</td>\n",
       "      <td>https://usa.newonnetflix.info/info/81229555</td>\n",
       "      <td>False</td>\n",
       "    </tr>\n",
       "    <tr>\n",
       "      <th>3</th>\n",
       "      <td>4th Jun: Ammar (2020), 1hr 23m [TV-MA] (6/10)</td>\n",
       "      <td>{'type': 'text/plain', 'language': None, 'base...</td>\n",
       "      <td>[{'rel': 'alternate', 'type': 'text/html', 'hr...</td>\n",
       "      <td>https://usa.newonnetflix.info/info/81551208</td>\n",
       "      <td>When a family moves into an old castle, excite...</td>\n",
       "      <td>{'type': 'text/html', 'language': None, 'base'...</td>\n",
       "      <td>Sat, 04 Jun 2022 01:07:07 -0400</td>\n",
       "      <td>(2022, 6, 4, 5, 7, 7, 5, 155, 0)</td>\n",
       "      <td>https://usa.newonnetflix.info/info/81551208</td>\n",
       "      <td>False</td>\n",
       "    </tr>\n",
       "    <tr>\n",
       "      <th>4</th>\n",
       "      <td>3rd Jun: Change Days (2022), 1 Season [TV-PG] ...</td>\n",
       "      <td>{'type': 'text/plain', 'language': None, 'base...</td>\n",
       "      <td>[{'rel': 'alternate', 'type': 'text/html', 'hr...</td>\n",
       "      <td>https://usa.newonnetflix.info/info/81474612</td>\n",
       "      <td>At a romantic getaway, real-life couples on th...</td>\n",
       "      <td>{'type': 'text/html', 'language': None, 'base'...</td>\n",
       "      <td>Fri, 03 Jun 2022 01:07:13 -0400</td>\n",
       "      <td>(2022, 6, 3, 5, 7, 13, 4, 154, 0)</td>\n",
       "      <td>https://usa.newonnetflix.info/info/81474612</td>\n",
       "      <td>False</td>\n",
       "    </tr>\n",
       "  </tbody>\n",
       "</table>\n",
       "</div>"
      ],
      "text/plain": [
       "                                               title  \\\n",
       "0  6th Jun: Bill Burr Presents: Friends Who Kill ...   \n",
       "1  6th Jun: Action Pack (2022), 2 Seasons [TV-Y] ...   \n",
       "2  5th Jun: Straight Up (2020), 1hr 36m [TV-MA] -...   \n",
       "3      4th Jun: Ammar (2020), 1hr 23m [TV-MA] (6/10)   \n",
       "4  3rd Jun: Change Days (2022), 1 Season [TV-PG] ...   \n",
       "\n",
       "                                        title_detail  \\\n",
       "0  {'type': 'text/plain', 'language': None, 'base...   \n",
       "1  {'type': 'text/plain', 'language': None, 'base...   \n",
       "2  {'type': 'text/plain', 'language': None, 'base...   \n",
       "3  {'type': 'text/plain', 'language': None, 'base...   \n",
       "4  {'type': 'text/plain', 'language': None, 'base...   \n",
       "\n",
       "                                               links  \\\n",
       "0  [{'rel': 'alternate', 'type': 'text/html', 'hr...   \n",
       "1  [{'rel': 'alternate', 'type': 'text/html', 'hr...   \n",
       "2  [{'rel': 'alternate', 'type': 'text/html', 'hr...   \n",
       "3  [{'rel': 'alternate', 'type': 'text/html', 'hr...   \n",
       "4  [{'rel': 'alternate', 'type': 'text/html', 'hr...   \n",
       "\n",
       "                                          link  \\\n",
       "0  https://usa.newonnetflix.info/info/81222748   \n",
       "1  https://usa.newonnetflix.info/info/80993597   \n",
       "2  https://usa.newonnetflix.info/info/81229555   \n",
       "3  https://usa.newonnetflix.info/info/81551208   \n",
       "4  https://usa.newonnetflix.info/info/81474612   \n",
       "\n",
       "                                             summary  \\\n",
       "0  In a night of killer comedy, Bill Burr hosts a...   \n",
       "1  [New Episodes] With hearts, smarts and superpo...   \n",
       "2  [Streaming Again] When a gay brainiac with OCD...   \n",
       "3  When a family moves into an old castle, excite...   \n",
       "4  At a romantic getaway, real-life couples on th...   \n",
       "\n",
       "                                      summary_detail  \\\n",
       "0  {'type': 'text/html', 'language': None, 'base'...   \n",
       "1  {'type': 'text/html', 'language': None, 'base'...   \n",
       "2  {'type': 'text/html', 'language': None, 'base'...   \n",
       "3  {'type': 'text/html', 'language': None, 'base'...   \n",
       "4  {'type': 'text/html', 'language': None, 'base'...   \n",
       "\n",
       "                         published                   published_parsed  \\\n",
       "0  Sun, 05 Jun 2022 22:07:08 -0400   (2022, 6, 6, 2, 7, 8, 0, 157, 0)   \n",
       "1  Sun, 05 Jun 2022 21:01:17 -0400  (2022, 6, 6, 1, 1, 17, 0, 157, 0)   \n",
       "2  Sun, 05 Jun 2022 01:07:23 -0400  (2022, 6, 5, 5, 7, 23, 6, 156, 0)   \n",
       "3  Sat, 04 Jun 2022 01:07:07 -0400   (2022, 6, 4, 5, 7, 7, 5, 155, 0)   \n",
       "4  Fri, 03 Jun 2022 01:07:13 -0400  (2022, 6, 3, 5, 7, 13, 4, 154, 0)   \n",
       "\n",
       "                                            id  guidislink  \n",
       "0  https://usa.newonnetflix.info/info/81222748       False  \n",
       "1  https://usa.newonnetflix.info/info/80993597       False  \n",
       "2  https://usa.newonnetflix.info/info/81229555       False  \n",
       "3  https://usa.newonnetflix.info/info/81551208       False  \n",
       "4  https://usa.newonnetflix.info/info/81474612       False  "
      ]
     },
     "execution_count": 33,
     "metadata": {},
     "output_type": "execute_result"
    }
   ],
   "source": [
    "df.head()"
   ]
  },
  {
   "cell_type": "markdown",
   "metadata": {},
   "source": [
    "Challenge: write code to create a dataframe of the top 10 movies from the Netflix Top 100 DVDs and iTunes. Check to see if your feed is well formed. Compile the name of the feed as the souce, the published date, the movie ranking in the list, the movie title, a link to the movie, and the summary. If the published date does not exist in the feed, use the current date. Save your dataframe as a csv. Here is a link to one [possible solution](./rss_challenge.py)."
   ]
  }
 ],
 "metadata": {
  "anaconda-cloud": {},
  "interpreter": {
   "hash": "e7f3b23733b20788358435ba0f84925a20d329f0b33e06615bcd559d2f1f8a5b"
  },
  "kernelspec": {
   "display_name": "Python 3.9.12 ('base')",
   "language": "python",
   "name": "python3"
  },
  "language_info": {
   "codemirror_mode": {
    "name": "ipython",
    "version": 3
   },
   "file_extension": ".py",
   "mimetype": "text/x-python",
   "name": "python",
   "nbconvert_exporter": "python",
   "pygments_lexer": "ipython3",
   "version": "3.9.12"
  }
 },
 "nbformat": 4,
 "nbformat_minor": 1
}
